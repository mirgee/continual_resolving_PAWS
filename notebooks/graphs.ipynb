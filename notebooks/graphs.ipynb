{
 "cells": [
  {
   "cell_type": "code",
   "execution_count": 8,
   "metadata": {
    "collapsed": false
   },
   "outputs": [],
   "source": [
    "import matplotlib.pyplot as plt\n",
    "import numpy as np\n",
    "import pandas as pd\n",
    "\n",
    "tsili = pd.read_csv(\"~/Documents/Tests/tsili.csv\", sep=\" \",index_col=None, names=['y', 'x'])\n",
    "evo = pd.read_csv(\"~/Documents/Tests/evo.csv\", sep=\" \", index_col=None, names=['y', 'x'])\n",
    "grils = pd.read_csv(\"~/Documents/Tests/grils.csv\", sep=\"\\t\", index_col=None, names=['y', 'x'])"
   ]
  },
  {
   "cell_type": "code",
   "execution_count": 9,
   "metadata": {
    "collapsed": false
   },
   "outputs": [],
   "source": [
    "fig = plt.figure(figsize=(11,8))\n",
    "ax1 = fig.add_subplot(111)\n",
    "\n",
    "ax1.plot(tsili['x'], tsili['y'], label='tsili')\n",
    "ax1.plot(evo['x'], evo['y'], label='evo')\n",
    "ax1.plot(grils['x'], grils['y'], label='grils')\n",
    "ax1.set_xlabel('time [s]')\n",
    "ax1.set_ylabel('score')\n",
    "\n",
    "colormap = plt.cm.gist_ncar \n",
    "colors = [colormap(i) for i in np.linspace(0, 1,len(ax1.lines))]\n",
    "colors = ['red', 'green', 'blue']\n",
    "for i,j in enumerate(ax1.lines):\n",
    "    j.set_color(colors[i])\n",
    "\n",
    "ax1.legend(loc=2)\n",
    "\n",
    "\n",
    "\n",
    "plt.savefig('comp.png')"
   ]
  },
  {
   "cell_type": "code",
   "execution_count": null,
   "metadata": {
    "collapsed": true
   },
   "outputs": [],
   "source": []
  }
 ],
 "metadata": {
  "kernelspec": {
   "display_name": "Python 3",
   "language": "python",
   "name": "python3"
  },
  "language_info": {
   "codemirror_mode": {
    "name": "ipython",
    "version": 3
   },
   "file_extension": ".py",
   "mimetype": "text/x-python",
   "name": "python",
   "nbconvert_exporter": "python",
   "pygments_lexer": "ipython3",
   "version": "3.6.0"
  }
 },
 "nbformat": 4,
 "nbformat_minor": 2
}
