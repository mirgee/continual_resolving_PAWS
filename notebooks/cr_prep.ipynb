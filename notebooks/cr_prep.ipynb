{
 "cells": [
  {
   "cell_type": "code",
   "execution_count": 51,
   "metadata": {
    "collapsed": false
   },
   "outputs": [
    {
     "data": {
      "text/plain": [
       "4866.1103416435826"
      ]
     },
     "execution_count": 51,
     "metadata": {},
     "output_type": "execute_result"
    }
   ],
   "source": [
    "import pandas as pd\n",
    "import networkx as nx\n",
    "import matplotlib as mp\n",
    "import matplotlib.pyplot as pp\n",
    "from networkx.algorithms import *\n",
    "import numpy as np\n",
    "\n",
    "df = pd.read_csv(\"/home/miroslav/Source/PAWS/paws_mdp_out.txt\", sep=\" \", index_col = None)\n",
    "\n",
    "graph = nx.from_pandas_dataframe(df, source='node_from', target='node_to', edge_attr=['distance', 'animal_density', 'grid_cell_x', 'grid_cell_y'])\n",
    "\n",
    "\n",
    "nx.average_shortest_path_length(graph, weight='distance')\n"
   ]
  },
  {
   "cell_type": "code",
   "execution_count": 2,
   "metadata": {
    "collapsed": false
   },
   "outputs": [],
   "source": [
    "ssp = nx.shortest_simple_paths(graph, source=0.0, target=0.0, weight='distance')\n",
    "sp = nx.all_simple_paths(graph, source=0.0, target=0.0, cutoff=None)\n",
    "st = nx.minimum_spanning_tree(graph, weight='distance')\n",
    "cyc = nx.simple_cycles(graph.to_directed())"
   ]
  },
  {
   "cell_type": "code",
   "execution_count": null,
   "metadata": {
    "collapsed": false
   },
   "outputs": [],
   "source": [
    "routes = []\n",
    "for cycle in cyc:\n",
    "    ssum = 0\n",
    "    for index, node in enumerate(cycle):\n",
    "        if index+1 < len(cycle):\n",
    "            ssum += graph[cycle[index]][cycle[index+1]]['distance']\n",
    "    if 5000 <= ssum <= 9000:\n",
    "        routes.append(cycle)\n",
    "        print(cycle)\n",
    "\n",
    "# print(routes)"
   ]
  },
  {
   "cell_type": "code",
   "execution_count": 6,
   "metadata": {
    "collapsed": false
   },
   "outputs": [
    {
     "data": {
      "text/plain": [
       "[]"
      ]
     },
     "execution_count": 6,
     "metadata": {},
     "output_type": "execute_result"
    }
   ],
   "source": [
    "indeces = []\n",
    "basis = nx.cycle_basis(graph, root=0.0)\n",
    "for index, value in enumerate(basis):\n",
    "    if 0.0 in value:\n",
    "        indeces.append(index)\n",
    "indeces"
   ]
  },
  {
   "cell_type": "code",
   "execution_count": 7,
   "metadata": {
    "collapsed": false
   },
   "outputs": [
    {
     "name": "stdout",
     "output_type": "stream",
     "text": [
      "[0, 15.0, 0]\n"
     ]
    }
   ],
   "source": [
    "ego = nx.ego_graph(graph, 0.0, radius=4000)\n",
    "for path in (nx.all_simple_paths(ego, source=0, target=0, cutoff=None)):\n",
    "    print(path)\n",
    "    break"
   ]
  },
  {
   "cell_type": "code",
   "execution_count": null,
   "metadata": {
    "collapsed": true
   },
   "outputs": [],
   "source": [
    "for path in nx.all_shortest_paths(graph, 0.0, 0.0, weight='distance'):\n",
    "    print(path)"
   ]
  },
  {
   "cell_type": "code",
   "execution_count": 114,
   "metadata": {
    "collapsed": false
   },
   "outputs": [],
   "source": [
    "df = pd.read_csv(\"/home/miroslav/Source/research_task/data/paws_mdp_out.txt\", sep=\" \")\n",
    "graph = nx.from_pandas_dataframe(df, source='node_from', target='node_to', edge_attr=['distance', 'animal_density', 'grid_cell_x', 'grid_cell_y'])"
   ]
  },
  {
   "cell_type": "code",
   "execution_count": null,
   "metadata": {
    "collapsed": false,
    "scrolled": false
   },
   "outputs": [],
   "source": [
    "import random\n",
    "\n",
    "dist = pd.read_csv(\"~/Source/research_task/data/dist.gop\", sep=\" \", header=None)\n",
    "dist.iloc[0,:]\n",
    "cols = []\n",
    "for index, column in enumerate(dist.iloc[0,:]):\n",
    "    if 5000 <= dist.iloc[0,index] + dist.iloc[index,0] <= 10000:\n",
    "        # print(dist.iloc[0,index] + dist.iloc[index,0])\n",
    "        cols.append(index)\n",
    "        \n",
    "routes = []\n",
    "random_inds = random.sample(cols, 30)\n",
    "for random_ind in random_inds:\n",
    "    graph = nx.from_pandas_dataframe(df, source='node_from', target='node_to', edge_attr=['distance', 'animal_density', 'grid_cell_x', 'grid_cell_y'])\n",
    "    route_to = nx.shortest_path(graph, 0.0, random_ind, 'distance')\n",
    "    route_to.pop(-1)\n",
    "    route_to.pop(0)\n",
    "    try:\n",
    "        graph.remove_nodes_from(route_to)\n",
    "        route_from = nx.shortest_path(graph, random_ind, 0.0, 'distance')\n",
    "        routes.append(route_to + route_from)\n",
    "        print(route_to + route_from)\n",
    "    except:\n",
    "        continue\n",
    "    \n",
    "print(routes)"
   ]
  },
  {
   "cell_type": "code",
   "execution_count": 41,
   "metadata": {
    "collapsed": false
   },
   "outputs": [],
   "source": [
    "r = nx.fast_gnp_random_graph(20, 0.15)\n",
    "r = nx.connected_watts_strogatz_graph(20,3,0.5)\n",
    "r = nx.random_regular_graph(3, 20) # Pick this one!\n",
    "r = nx.powerlaw_cluster_graph(20, 2, 0.3) # Or this one"
   ]
  },
  {
   "cell_type": "code",
   "execution_count": 47,
   "metadata": {
    "collapsed": false
   },
   "outputs": [
    {
     "data": {
      "image/png": "[encoded data removed]",
      "text/plain": [
       "<matplotlib.figure.Figure at 0x7f1f67529940>"
      ]
     },
     "metadata": {},
     "output_type": "display_data"
    }
   ],
   "source": [
    "nx.draw_networkx(r, pos=networkx.spring_layout(r))\n",
    "pp.show()"
   ]
  },
  {
   "cell_type": "code",
   "execution_count": 39,
   "metadata": {
    "collapsed": false
   },
   "outputs": [],
   "source": [
    "import random\n",
    "for (u, v) in r.edges():\n",
    "    r.edge[u][v]['distance'] = random.randint(0,10)"
   ]
  },
  {
   "cell_type": "code",
   "execution_count": 54,
   "metadata": {
    "collapsed": false
   },
   "outputs": [
    {
     "name": "stdout",
     "output_type": "stream",
     "text": [
      "     0     1     2     3     4     5     6     7     8     9   ...    351  \\\n",
      "0      0   inf   inf   inf   inf   inf   inf   150   inf   inf ...    inf   \n",
      "1    inf     0  1350   inf  1400   inf  1200   inf   inf   inf ...    inf   \n",
      "2    inf  1350     0   inf   250   inf   inf   inf   inf   inf ...    inf   \n",
      "3    inf   inf   inf     0  1000   inf   inf   inf   inf   inf ...    inf   \n",
      "4    inf  1400   250  1000     0   inf   550   inf   inf   inf ...    inf   \n",
      "5    inf   inf   inf   inf   inf     0   850  1300  1500   700 ...    inf   \n",
      "6    inf  1200   inf   inf   550   850     0   inf  1450   inf ...    inf   \n",
      "7    150   inf   inf   inf   inf  1300   inf     0  1550   650 ...    inf   \n",
      "8    inf   inf   inf   inf   inf  1500  1450  1550     0  1150 ...    inf   \n",
      "9    inf   inf   inf   inf   inf   700   inf   650  1150     0 ...    inf   \n",
      "10   inf   inf   inf   inf   inf  1450   950   inf  1700   800 ...    inf   \n",
      "11   inf   inf   inf   inf   inf   250   inf   inf  1450   inf ...    inf   \n",
      "12   inf   inf   inf   inf   inf   inf  1250  1350   950  1000 ...    inf   \n",
      "13   inf   inf   inf   inf   inf   inf   inf   inf   inf   inf ...    inf   \n",
      "14   inf   inf   inf   inf   inf   inf   inf   inf   inf   inf ...    inf   \n",
      "15   inf   inf   inf   inf   inf   inf   inf   inf   inf   inf ...    inf   \n",
      "16   inf   inf   inf   inf   inf   inf   inf   inf   inf   inf ...    inf   \n",
      "17   inf   inf   inf   inf   inf   inf   inf   inf   inf   inf ...    inf   \n",
      "18   inf   inf   inf   inf   inf   inf   inf   inf   inf   inf ...    inf   \n",
      "19   inf   inf   inf   inf   inf   inf   inf   inf   inf   inf ...    inf   \n",
      "20   inf   inf   inf   inf   inf   inf   inf   inf   inf   inf ...    inf   \n",
      "21   inf   inf   inf   inf   inf   inf   inf   inf   inf   inf ...    inf   \n",
      "22   inf   inf   inf   inf   inf   inf   inf   inf   inf   inf ...    inf   \n",
      "23   inf   300   inf   inf   inf   inf   inf   inf   inf   inf ...    inf   \n",
      "24   inf   inf   inf   inf   inf   inf   inf   inf   inf   inf ...    inf   \n",
      "25   inf   inf   inf   inf   inf   inf   inf   inf   inf   inf ...    inf   \n",
      "26   inf   inf   inf   inf   inf   inf   inf   inf   inf   inf ...    inf   \n",
      "27   inf   inf   inf   inf   inf   inf   inf   inf   inf   inf ...    inf   \n",
      "28   inf   inf   inf   inf   inf   inf   inf   inf   inf   inf ...    inf   \n",
      "29   inf   inf   inf   inf   inf   inf   inf   inf   inf   inf ...    inf   \n",
      "..   ...   ...   ...   ...   ...   ...   ...   ...   ...   ... ...    ...   \n",
      "331  inf   inf   inf   inf   inf   inf   inf   inf   inf   inf ...    inf   \n",
      "332  inf   inf   inf   inf   inf   inf   inf   inf   inf   inf ...    inf   \n",
      "333  inf   inf   inf   inf   inf   inf   inf   inf   inf   inf ...    inf   \n",
      "334  inf   inf   inf   inf   inf   inf   inf   inf   inf   inf ...    inf   \n",
      "335  inf   inf   inf   inf   inf   inf   inf   inf   inf   inf ...    inf   \n",
      "336  inf   inf   inf   inf   inf   inf   inf   inf   inf   inf ...    inf   \n",
      "337  inf   inf   inf   inf   inf   inf   inf   inf   inf   inf ...    inf   \n",
      "338  inf   inf   inf   inf   inf   inf   inf   inf   inf   inf ...    inf   \n",
      "339  inf   inf   inf   inf   inf   inf   inf   inf   inf   inf ...    inf   \n",
      "340  inf   inf   inf   inf   inf   inf   inf   inf   inf   inf ...    inf   \n",
      "341  inf   inf   inf   inf   inf   inf   inf   inf   inf   inf ...    inf   \n",
      "342  inf   inf   inf   inf   inf   inf   inf   inf   inf   inf ...    inf   \n",
      "343  inf   inf   inf   inf   inf   inf   inf   inf   inf   inf ...    inf   \n",
      "344  inf   inf   inf   inf   inf   inf   inf   inf   inf   inf ...    inf   \n",
      "345  inf   inf   inf   inf   inf   inf   inf   inf   inf   inf ...    inf   \n",
      "346  inf   inf   inf   inf   inf   inf   inf   inf   inf   inf ...    inf   \n",
      "347  inf   inf   inf   inf   inf   inf   inf   inf   inf   inf ...   1000   \n",
      "348  inf   inf   inf   inf   inf   inf   inf   inf   inf   inf ...    950   \n",
      "349  inf   inf   inf   inf   inf   inf   inf   inf   inf   inf ...    inf   \n",
      "350  inf   inf   inf   inf   inf   inf   inf   inf   inf   inf ...    100   \n",
      "351  inf   inf   inf   inf   inf   inf   inf   inf   inf   inf ...      0   \n",
      "352  inf   inf   inf   inf   inf   inf   inf   inf   inf   inf ...    250   \n",
      "353  inf   inf   inf   inf   inf   inf   inf   inf   inf   inf ...    inf   \n",
      "354  inf   inf   inf   inf   inf   inf   inf   inf   inf   inf ...    inf   \n",
      "355  inf   inf   inf   inf   inf   inf   inf   inf   inf   inf ...    150   \n",
      "356  inf   inf   inf   inf   inf   inf   inf   inf   inf   inf ...    inf   \n",
      "357  inf   inf   inf   inf   inf   inf   inf   inf   inf   inf ...    inf   \n",
      "358  inf   inf   inf   inf   inf   inf   inf   inf   inf   inf ...    inf   \n",
      "359  inf   inf   inf   inf   inf   inf   inf   inf   inf   inf ...    inf   \n",
      "360  inf   inf   inf   inf   inf   inf   inf   inf   inf   inf ...    inf   \n",
      "\n",
      "     352   353   354   355   356   357   358  359  360  \n",
      "0    inf   inf   inf   inf   inf   inf   inf  inf  inf  \n",
      "1    inf   inf   inf   inf   inf   inf   inf  inf  inf  \n",
      "2    inf   inf   inf   inf   inf   inf   inf  inf  inf  \n",
      "3    inf   inf   inf   inf   inf   inf   inf  inf  inf  \n",
      "4    inf   inf   inf   inf   inf   inf   inf  inf  inf  \n",
      "5    inf   inf   inf   inf   inf   inf   inf  inf  inf  \n",
      "6    inf   inf   inf   inf   inf   inf   inf  inf  inf  \n",
      "7    inf   inf   inf   inf   inf   inf   inf  inf  inf  \n",
      "8    inf   inf   inf   inf   inf   inf   inf  inf  inf  \n",
      "9    inf   inf   inf   inf   inf   inf   inf  inf  inf  \n",
      "10   inf   inf   inf   inf   inf   inf   inf  inf  inf  \n",
      "11   inf   inf   inf   inf   inf   inf   inf  inf  inf  \n",
      "12   inf   inf   inf   inf   inf   inf   inf  inf  inf  \n",
      "13   inf   inf   inf   inf   inf   inf   inf  inf  inf  \n",
      "14   inf   inf   inf   inf   inf   inf   inf  inf  inf  \n",
      "15   inf   inf   inf   inf   inf   inf   inf  inf  inf  \n",
      "16   inf   inf   inf   inf   inf   inf   inf  inf  inf  \n",
      "17   inf   inf   inf   inf   inf   inf   inf  inf  inf  \n",
      "18   inf   inf   inf   inf   inf   inf   inf  inf  inf  \n",
      "19   inf   inf   inf   inf   inf   inf   inf  inf  inf  \n",
      "20   inf   inf   inf   inf   inf   inf   inf  inf  inf  \n",
      "21   inf   inf   inf   inf   inf   inf   inf  inf  inf  \n",
      "22   inf   inf   inf   inf   inf   inf   inf  inf  inf  \n",
      "23   inf   inf   inf   inf   inf   inf   inf  inf  inf  \n",
      "24   inf   inf   inf   inf   inf   inf   inf  inf  inf  \n",
      "25   inf   inf   inf   inf   inf   inf   inf  inf  inf  \n",
      "26   inf   inf   inf   inf   inf   inf   inf  inf  inf  \n",
      "27   inf   inf   inf   inf   inf   inf   inf  inf  inf  \n",
      "28   inf   inf   inf   inf   inf   inf   inf  inf  inf  \n",
      "29   inf   inf   inf   inf   inf   inf   inf  inf  inf  \n",
      "..   ...   ...   ...   ...   ...   ...   ...  ...  ...  \n",
      "331  inf   inf   inf   inf  1100   inf   inf  inf  inf  \n",
      "332  inf   inf   inf  2550   inf   inf   inf  inf  inf  \n",
      "333  inf   inf   inf  2100  1200   inf   inf  inf  inf  \n",
      "334  inf   inf   inf  2600   inf   inf   100  inf  100  \n",
      "335  inf   inf   inf   inf   inf   inf   inf  inf  inf  \n",
      "336  inf   inf   inf  2400   inf   inf   inf  inf  inf  \n",
      "337  inf   inf   inf  2150   inf   inf   inf  inf  inf  \n",
      "338  inf   inf   inf  2150   inf   inf   inf  inf  inf  \n",
      "339  inf   inf   inf   inf   inf   inf   inf  inf  inf  \n",
      "340  inf   inf   inf   inf   inf   inf   inf  inf  inf  \n",
      "341  inf   inf   inf   inf   inf   inf   inf  inf  inf  \n",
      "342  inf   inf   inf   inf   inf   inf   150  inf  150  \n",
      "343  inf   inf   inf   inf   inf   inf   inf  inf  inf  \n",
      "344  inf   inf   inf  2500   inf   inf   inf  inf  inf  \n",
      "345  inf   inf   inf   inf   inf   inf   inf  inf  inf  \n",
      "346  inf   inf   inf   inf   inf   inf   inf  inf  inf  \n",
      "347  inf  1250   inf   inf   inf   inf   inf  inf  inf  \n",
      "348  inf  1200   inf   inf   inf   inf   inf  inf  inf  \n",
      "349  inf   350   inf   inf   inf   inf   inf  inf  inf  \n",
      "350  inf   200   inf   inf   inf   inf   inf  inf  inf  \n",
      "351  250   inf   inf   150   inf   inf   inf  inf  inf  \n",
      "352    0   350   inf   inf   inf   inf   inf  inf  inf  \n",
      "353  350     0   inf   inf   inf   inf   inf  inf  inf  \n",
      "354  inf   inf     0   250  1050   inf  1100  inf  inf  \n",
      "355  inf   inf   250     0  2550  1250   inf  inf  inf  \n",
      "356  inf   inf  1050  2550     0   250   inf  inf  inf  \n",
      "357  inf   inf   inf  1250   250     0   300  inf  inf  \n",
      "358  inf   inf  1100   inf   inf   300     0  inf  inf  \n",
      "359  inf   inf   inf   inf   inf   inf   inf    0  200  \n",
      "360  inf   inf   inf   inf   inf   inf   inf  200    0  \n",
      "\n",
      "[361 rows x 361 columns]\n"
     ]
    }
   ],
   "source": [
    "dist = pd.DataFrame(nx.adjacency_matrix(graph, weight='distance').todense()).replace(to_replace=0, value='inf')\n",
    "np.fill_diagonal(dist.values, 0)\n",
    "print(dist)"
   ]
  },
  {
   "cell_type": "code",
   "execution_count": 63,
   "metadata": {
    "collapsed": false
   },
   "outputs": [],
   "source": [
    "df = pd.read_csv(\"~/Source/research_task/data/paws_mdp_out.txt\", sep=\" \")\n",
    "orig_graph = nx.from_pandas_dataframe(df, source='node_from', target='node_to', edge_attr=['distance', 'animal_density', 'grid_cell_x', 'grid_cell_y'])\n",
    "orig_graph = nx.subgraph(graph, nx.node_connected_component(orig_graph, 0))\n",
    "new_graph = nx.Graph()\n",
    "i = len(orig_graph.nodes())\n",
    "for edge in orig_graph.edges():\n",
    "    new_graph.add_node(edge[0], animal_density=0, grid_cell_x=orig_graph[edge[0]][edge[1]]['grid_cell_x'], grid_cell_y=orig_graph[edge[0]][edge[1]]['grid_cell_y'])\n",
    "    new_graph.add_node(edge[1], animal_density=0, grid_cell_x=orig_graph[edge[0]][edge[1]]['grid_cell_x'], grid_cell_y=orig_graph[edge[0]][edge[1]]['grid_cell_y'])\n",
    "    new_graph.add_node(i, animal_density=orig_graph[edge[0]][edge[1]]['animal_density'], grid_cell_x=orig_graph[edge[0]][edge[1]]['grid_cell_x'], grid_cell_y=orig_graph[edge[0]][edge[1]]['grid_cell_y'])\n",
    "    new_graph.add_edge(edge[0],i,distance=orig_graph[edge[0]][edge[1]]['distance']/2)\n",
    "    new_graph.add_edge(i,edge[1],distance=orig_graph[edge[0]][edge[1]]['distance']/2)\n",
    "    i+=1\n",
    "dist = nx.floyd_warshall_numpy(new_graph, weight='distance')\n",
    "with open('dist_ext.gop', 'w') as f:\n",
    "    f.write(str(len(new_graph.nodes())) + \" 1 0 0\\n\")\n",
    "with open('dist_ext.gop', 'ab') as f:\n",
    "    for line in np.matrix(dist):\n",
    "        np.savetxt(f, line, fmt='%.2f')\n",
    "with open('dist_ext.gop', 'a') as f:\n",
    "    for node in new_graph.nodes_iter():\n",
    "        f.write(str(nx.get_node_attributes(new_graph, 'animal_density')[node])+\"\\n\")"
   ]
  },
  {
   "cell_type": "code",
   "execution_count": null,
   "metadata": {
    "collapsed": true
   },
   "outputs": [],
   "source": []
  }
 ],
 "metadata": {
  "kernelspec": {
   "display_name": "Python 3",
   "language": "python",
   "name": "python3"
  },
  "language_info": {
   "codemirror_mode": {
    "name": "ipython",
    "version": 3
   },
   "file_extension": ".py",
   "mimetype": "text/x-python",
   "name": "python",
   "nbconvert_exporter": "python",
   "pygments_lexer": "ipython3",
   "version": "3.6.0"
  }
 },
 "nbformat": 4,
 "nbformat_minor": 2
}
